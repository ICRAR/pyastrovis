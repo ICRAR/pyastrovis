{
 "cells": [
  {
   "cell_type": "markdown",
   "metadata": {},
   "source": [
    "# FITS visualisation using Jupyter"
   ]
  },
  {
   "cell_type": "markdown",
   "metadata": {},
   "source": [
    "### Interactive Visualisation using WebRTC and H.264 Encoding"
   ]
  },
  {
   "cell_type": "code",
   "execution_count": 1,
   "metadata": {
    "pycharm": {
     "is_executing": false
    }
   },
   "outputs": [],
   "source": [
    "import cv2\n",
    "import asyncio\n",
    "import uvloop\n",
    "import concurrent\n",
    "import numpy as np\n",
    "import bqplot.pyplot as plt\n",
    "import warnings\n",
    "from scipy import ndimage\n",
    "from pyastrovis.webrtc import WebRTCStream\n",
    "from pyastrovis.widget import WebRTCWidget\n",
    "from ipywidgets import IntSlider, HBox, VBox, Layout\n",
    "from IPython.display import display\n",
    "from astropy.wcs import WCS, FITSFixedWarning\n",
    "from astropy.io import fits\n",
    "from astropy.nddata import Cutout2D\n",
    "from cryptography.utils import CryptographyDeprecationWarning\n",
    "\n",
    "uvloop.install()\n",
    "warnings.simplefilter('ignore', FITSFixedWarning)\n",
    "warnings.simplefilter('ignore', CryptographyDeprecationWarning)"
   ]
  },
  {
   "cell_type": "code",
   "execution_count": 2,
   "metadata": {},
   "outputs": [],
   "source": [
    "fits_file = './image.fits'\n",
    "hdu = fits.open(fits_file, lazy_load_hdus=True)[0]\n",
    "image_data = hdu.data.squeeze()\n",
    "channels = image_data.shape[0]\n",
    "w = WCS(hdu.header)\n",
    "\n",
    "server = await WebRTCWidget.create_server(host='0.0.0.0', port=8080)\n",
    "panel = server.create_panel(500, 500)"
   ]
  },
  {
   "cell_type": "code",
   "execution_count": 3,
   "metadata": {
    "pycharm": {
     "is_executing": false,
     "metadata": false,
     "name": "#%%\n"
    }
   },
   "outputs": [
    {
     "data": {
      "application/vnd.jupyter.widget-view+json": {
       "model_id": "b3af13f70baf4af7a5810881a6cc46e6",
       "version_major": 2,
       "version_minor": 0
      },
      "text/plain": [
       "WebRTCClientWidget(height=500, id='f22feee4-7a66-49cd-85de-f835bec5ff9e', position=(0, 0), url='http://localho…"
      ]
     },
     "metadata": {},
     "output_type": "display_data"
    },
    {
     "data": {
      "application/vnd.jupyter.widget-view+json": {
       "model_id": "5a427c92bfcd48b180155a2a99b5d14c",
       "version_major": 2,
       "version_minor": 0
      },
      "text/plain": [
       "VBox(children=(IntSlider(value=0, description='Channel:', layout=Layout(width='60%'), max=143, step=2), Figure…"
      ]
     },
     "metadata": {},
     "output_type": "display_data"
    }
   ],
   "source": [
    "cut = None\n",
    "chan = 0\n",
    "pos = (6100, 5400)\n",
    "size = (500, 500)\n",
    "\n",
    "def modify(data):\n",
    "    global cut\n",
    "    cut = Cutout2D(data, pos, size, wcs=w.celestial)\n",
    "    img = cut.data\n",
    "    img = 512*((img-img.min())/img.ptp())\n",
    "    img = img.astype(np.uint8)\n",
    "    #img = ndimage.gaussian_filter(img, 1)\n",
    "    #img = cv2.Canny(img, 300, 400)\n",
    "    #img = cv2.applyColorMap(img, cv2.COLORMAP_HSV)\n",
    "    return img\n",
    "\n",
    "def get_channel_data(value):\n",
    "    return image_data[value, :,:]\n",
    "\n",
    "async def channel():\n",
    "    loop = asyncio.get_running_loop()\n",
    "    while True:\n",
    "        global chan\n",
    "        chan = await WebRTCWidget.wait_for_change(slider, 'value')\n",
    "        data = await loop.run_in_executor(None, get_channel_data, chan)\n",
    "        img = await loop.run_in_executor(None, modify, data)\n",
    "        scale = 'gray8'\n",
    "        #scale = 'rgb24'\n",
    "        await panel.add_data(img, scale)\n",
    "\n",
    "async def spectra():\n",
    "    while True:\n",
    "        x, y = await WebRTCWidget.wait_for_change(panel, 'position')\n",
    "        if cut:\n",
    "            c_x = x + cut.position_original[0]-cut.position_cutout[0]\n",
    "            c_y = y + cut.position_original[1]-cut.position_cutout[1]\n",
    "            spec = [image_data[i, c_y, c_x] for i in range(channels)]\n",
    "            lines.y = spec\n",
    "\n",
    "asyncio.ensure_future(channel())\n",
    "asyncio.ensure_future(spectra())\n",
    "\n",
    "slider = IntSlider(description='Channel:', layout=Layout(width='60%'), \n",
    "                   value=0, min=0, step=2, max=channels-1)\n",
    "\n",
    "x = [i for i in range(channels)]\n",
    "y = []\n",
    "fig = plt.figure(figsize=(3,4))\n",
    "axes_options = {'x': {'label': 'Channel'}, 'y': {'label': 'Jy/beam'}}\n",
    "lines = plt.plot(x=x, y=y, colors=['red'], axes_options=axes_options)\n",
    "\n",
    "display(panel, VBox([slider, fig]))"
   ]
  },
  {
   "cell_type": "markdown",
   "metadata": {},
   "source": [
    "### Volumentric Rendering"
   ]
  },
  {
   "cell_type": "code",
   "execution_count": null,
   "metadata": {},
   "outputs": [],
   "source": [
    "import warnings\n",
    "import ipyvolume as ipv\n",
    "import numpy as np\n",
    "import scipy.ndimage\n",
    "from astropy.io import fits\n",
    "from astropy.wcs import WCS\n",
    "from astropy.nddata import Cutout2D\n",
    "from astropy.wcs import WCS, FITSFixedWarning\n",
    "\n",
    "warnings.simplefilter('ignore', FITSFixedWarning)\n",
    "warnings.simplefilter(action='ignore', category=FutureWarning)\n",
    "\n",
    "pos = (6100, 5400)\n",
    "size = (500, 500)\n",
    "\n",
    "fits_file = './image.fits'\n",
    "hdu = fits.open(fits_file, lazy_load_hdus=True)[0]\n",
    "data = hdu.data.squeeze()\n",
    "w = WCS(hdu.header)\n",
    "\n",
    "channels = [Cutout2D(data[i,:,:], pos, size, wcs=w.celestial).data for i in range(1, 10)]\n",
    "cube = scipy.ndimage.gaussian_filter(np.dstack(channels), 0.01)"
   ]
  },
  {
   "cell_type": "code",
   "execution_count": null,
   "metadata": {},
   "outputs": [],
   "source": [
    "ipv.quickvolshow(cube, lighting=False, level=[0.29, 0.3, 0.33], opacity=[0.1, 0.1, 0.1], level_width=0.1)"
   ]
  },
  {
   "cell_type": "code",
   "execution_count": null,
   "metadata": {},
   "outputs": [],
   "source": []
  }
 ],
 "metadata": {
  "kernelspec": {
   "display_name": "Python 3 (ipykernel)",
   "language": "python",
   "name": "python3"
  },
  "language_info": {
   "codemirror_mode": {
    "name": "ipython",
    "version": 3
   },
   "file_extension": ".py",
   "mimetype": "text/x-python",
   "name": "python",
   "nbconvert_exporter": "python",
   "pygments_lexer": "ipython3",
   "version": "3.9.9"
  },
  "pycharm": {
   "stem_cell": {
    "cell_type": "raw",
    "metadata": {
     "collapsed": false
    },
    "source": []
   }
  }
 },
 "nbformat": 4,
 "nbformat_minor": 1
}
