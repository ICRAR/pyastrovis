{
 "cells": [
  {
   "cell_type": "code",
   "execution_count": 1,
   "metadata": {
    "pycharm": {
     "is_executing": false
    }
   },
   "outputs": [],
   "source": [
    "import io\n",
    "import os\n",
    "import cv2\n",
    "import asyncio\n",
    "import concurrent\n",
    "import numpy as np\n",
    "from pyastrovis.webrtc import WebRTCStream\n",
    "from pyastrovis.widget import WebRTCWidget\n",
    "from pyastrovis.fits import FITSImageCubeStream\n",
    "from ipywidgets import IntSlider, HBox, VBox\n",
    "import bqplot.pyplot as plt\n",
    "from IPython.display import display\n",
    "import uvloop\n",
    "\n",
    "uvloop.install()"
   ]
  },
  {
   "cell_type": "code",
   "execution_count": 2,
   "metadata": {},
   "outputs": [],
   "source": [
    "server = await WebRTCWidget.create_server()"
   ]
  },
  {
   "cell_type": "code",
   "execution_count": 3,
   "metadata": {},
   "outputs": [],
   "source": [
    "fits = await FITSImageCubeStream.open('/Users/dpallot/Projects/jacal/summit_demo/oskar/ingest/big.fits', num_processes=4)"
   ]
  },
  {
   "cell_type": "code",
   "execution_count": 4,
   "metadata": {},
   "outputs": [],
   "source": [
    "panel = server.create_panel(256, 256)\n",
    "x = [i for i in range(fits.get_num_channels())]\n",
    "y = [await fits.get_spectral_line(5, 3)]\n",
    "axes_options = {'x': {'label': 'Channel'}, 'y': {'label': 'Jy/beam'}}\n",
    "fig = plt.figure()\n",
    "fig.layout.height = '300px'\n",
    "fig.layout.width = '700px'\n",
    "lines = plt.plot(x=x, y=y, colors=['red'], axes_options=axes_options)"
   ]
  },
  {
   "cell_type": "code",
   "execution_count": 5,
   "metadata": {
    "pycharm": {
     "is_executing": false,
     "metadata": false,
     "name": "#%%\n"
    }
   },
   "outputs": [
    {
     "data": {
      "application/vnd.jupyter.widget-view+json": {
       "model_id": "b84b8175c0c440219444bb507de9761d",
       "version_major": 2,
       "version_minor": 0
      },
      "text/plain": [
       "HBox(children=(WebRTCClientWidget(height=256, id='b8613da4-34c0-44c8-99fa-99235c69acbe', position=(0, 0), url=…"
      ]
     },
     "metadata": {},
     "output_type": "display_data"
    },
    {
     "data": {
      "application/vnd.jupyter.widget-view+json": {
       "model_id": "eb16e04f2da049e6985a05788af8171c",
       "version_major": 2,
       "version_minor": 0
      },
      "text/plain": [
       "IntSlider(value=0, max=34619)"
      ]
     },
     "metadata": {},
     "output_type": "display_data"
    },
    {
     "name": "stderr",
     "output_type": "stream",
     "text": [
      "Warning: data is not aligned! This can lead to a speed loss\n"
     ]
    }
   ],
   "source": [
    "loop = asyncio.get_running_loop()\n",
    "def wait_for_change(widget, value):\n",
    "    future = asyncio.Future()\n",
    "    def getvalue(change):\n",
    "        future.set_result(change.new)\n",
    "        widget.unobserve(getvalue, value)\n",
    "    widget.observe(getvalue, value)\n",
    "    return future\n",
    "\n",
    "async def channel():\n",
    "    while True:\n",
    "        value = await wait_for_change(slider, 'value')\n",
    "        data = await fits.get_channel_data(value)\n",
    "        norm_img = 255*((data-data.min())/data.ptp())\n",
    "        norm_img = norm_img.astype(np.uint8)\n",
    "        img = cv2.applyColorMap(norm_img, cv2.COLORMAP_HSV)\n",
    "        await panel.add_data(img, 'rgb24')\n",
    "\n",
    "async def spectra():\n",
    "    while True:\n",
    "        x, y = await wait_for_change(panel, 'position')\n",
    "        spec = await fits.get_spectral_line(x, y)\n",
    "        lines.y = spec\n",
    "        \n",
    "asyncio.ensure_future(channel())\n",
    "asyncio.ensure_future(spectra())\n",
    "\n",
    "slider = IntSlider(value=0, min=0, step=1, max=fits.get_num_channels()-1)\n",
    "\n",
    "\n",
    "display(HBox([panel, fig]), slider)"
   ]
  },
  {
   "cell_type": "code",
   "execution_count": null,
   "metadata": {},
   "outputs": [],
   "source": [
    "panel.get_position()"
   ]
  },
  {
   "cell_type": "code",
   "execution_count": null,
   "metadata": {},
   "outputs": [],
   "source": [
    "await panel.close()\n",
    "await server.close()\n",
    "await fits.close()"
   ]
  },
  {
   "cell_type": "code",
   "execution_count": null,
   "metadata": {},
   "outputs": [],
   "source": []
  }
 ],
 "metadata": {
  "kernelspec": {
   "display_name": "Python 3",
   "language": "python",
   "name": "python3"
  },
  "language_info": {
   "codemirror_mode": {
    "name": "ipython",
    "version": 3
   },
   "file_extension": ".py",
   "mimetype": "text/x-python",
   "name": "python",
   "nbconvert_exporter": "python",
   "pygments_lexer": "ipython3",
   "version": "3.7.3"
  }
 },
 "nbformat": 4,
 "nbformat_minor": 1
}
