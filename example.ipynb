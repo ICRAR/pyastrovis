{
 "cells": [
  {
   "cell_type": "markdown",
   "metadata": {},
   "source": [
    "# FITS stream processing and visualisation using WebRTC and Jupyter"
   ]
  },
  {
   "cell_type": "markdown",
   "metadata": {},
   "source": [
    "### Interactive Visualisation"
   ]
  },
  {
   "cell_type": "code",
   "execution_count": 1,
   "metadata": {
    "pycharm": {
     "is_executing": false
    }
   },
   "outputs": [],
   "source": [
    "import cv2\n",
    "import asyncio\n",
    "import uvloop\n",
    "import concurrent\n",
    "import numpy as np\n",
    "import bqplot.pyplot as plt\n",
    "from pyastrovis.webrtc import WebRTCStream\n",
    "from pyastrovis.widget import WebRTCWidget\n",
    "from pyastrovis.fits import FITSImageCubeStream\n",
    "from ipywidgets import IntSlider, HBox, VBox\n",
    "from IPython.display import display\n",
    "\n",
    "uvloop.install()"
   ]
  },
  {
   "cell_type": "code",
   "execution_count": 2,
   "metadata": {},
   "outputs": [],
   "source": [
    "server = await WebRTCWidget.create_server()"
   ]
  },
  {
   "cell_type": "code",
   "execution_count": 3,
   "metadata": {},
   "outputs": [],
   "source": [
    "fits_file = '/Users/dpallot/Projects/jacal/summit_demo/oskar/ingest/demo_f.all.fits'\n",
    "fits = await FITSImageCubeStream.open(fits_file, num_processes=4)"
   ]
  },
  {
   "cell_type": "code",
   "execution_count": 4,
   "metadata": {},
   "outputs": [],
   "source": [
    "panel = server.create_panel(300, 300)\n",
    "x = [i for i in range(fits.get_num_channels())]\n",
    "y = []\n",
    "fig = plt.figure()\n",
    "fig.layout.height = '280px'\n",
    "fig.layout.width = '668px'\n",
    "axes_options = {'x': {'label': 'Channel'}, 'y': {'label': 'Jy/beam'}}\n",
    "lines = plt.plot(x=x, y=y, colors=['red'], axes_options=axes_options)"
   ]
  },
  {
   "cell_type": "code",
   "execution_count": 5,
   "metadata": {
    "pycharm": {
     "is_executing": false,
     "metadata": false,
     "name": "#%%\n"
    }
   },
   "outputs": [
    {
     "data": {
      "application/vnd.jupyter.widget-view+json": {
       "model_id": "00aa279dcf0b45f0a26b6a1099d57b22",
       "version_major": 2,
       "version_minor": 0
      },
      "text/plain": [
       "HBox(children=(VBox(children=(WebRTCClientWidget(height=300, id='3275a9c7-d650-4383-a8a8-579184568fd3', positi…"
      ]
     },
     "metadata": {},
     "output_type": "display_data"
    }
   ],
   "source": [
    "loop = asyncio.get_running_loop()\n",
    "def wait_for_change(widget, value):\n",
    "    future = asyncio.Future()\n",
    "    def getvalue(change):\n",
    "        future.set_result(change.new)\n",
    "        widget.unobserve(getvalue, value)\n",
    "    widget.observe(getvalue, value)\n",
    "    return future\n",
    "\n",
    "async def channel():\n",
    "    while True:\n",
    "        value = await wait_for_change(slider, 'value')\n",
    "        data = await fits.get_channel_data(value)\n",
    "        norm_img = 255*((data-data.min())/data.ptp())\n",
    "        norm_img = norm_img.astype(np.uint8)\n",
    "        img = cv2.applyColorMap(norm_img, cv2.COLORMAP_HSV)\n",
    "        await panel.add_data(img, 'rgb24')\n",
    "\n",
    "async def spectra():\n",
    "    while True:\n",
    "        x, y = await wait_for_change(panel, 'position')\n",
    "        spec = await fits.get_spectral_line(x, y)\n",
    "        lines.y = spec\n",
    "        \n",
    "asyncio.ensure_future(channel())\n",
    "asyncio.ensure_future(spectra())\n",
    "slider = IntSlider(value=0, min=0, step=1, max=fits.get_num_channels()-1)\n",
    "display(HBox([VBox([panel, slider]), fig]))"
   ]
  },
  {
   "cell_type": "code",
   "execution_count": null,
   "metadata": {},
   "outputs": [],
   "source": [
    "await panel.close()\n",
    "await server.close()\n",
    "await fits.close()"
   ]
  },
  {
   "cell_type": "markdown",
   "metadata": {},
   "source": [
    "### Image Smoothing"
   ]
  },
  {
   "cell_type": "code",
   "execution_count": null,
   "metadata": {},
   "outputs": [],
   "source": [
    "%matplotlib inline\n",
    "import cv2\n",
    "import warnings\n",
    "import numpy as np\n",
    "import matplotlib.pyplot as plt\n",
    "from scipy import ndimage\n",
    "from pyastrovis.fits import FITSImageCubeStream\n",
    "warnings.simplefilter(action='ignore', category=FutureWarning)\n",
    "\n",
    "fits_file = '/Users/dpallot/Projects/jacal/summit_demo/oskar/ingest/demo_f.all.fits'\n",
    "fits = await FITSImageCubeStream.open(fits_file)\n",
    "img = await fits.get_channel_data(1090)"
   ]
  },
  {
   "cell_type": "code",
   "execution_count": null,
   "metadata": {},
   "outputs": [],
   "source": [
    "image1 = ndimage.gaussian_filter(img, 10)\n",
    "fig, ax = plt.subplots(1, 2, figsize=(15,15))\n",
    "ax[0].imshow(img)\n",
    "ax[1].imshow(image1)\n",
    "plt.show()"
   ]
  },
  {
   "cell_type": "markdown",
   "metadata": {},
   "source": [
    "### Volumentric Rendering"
   ]
  },
  {
   "cell_type": "code",
   "execution_count": null,
   "metadata": {},
   "outputs": [],
   "source": [
    "import warnings\n",
    "import ipyvolume as ipv\n",
    "import numpy as np\n",
    "import scipy.ndimage\n",
    "from pyastrovis.fits import FITSImageCubeStream\n",
    "warnings.simplefilter(action='ignore', category=FutureWarning)"
   ]
  },
  {
   "cell_type": "code",
   "execution_count": null,
   "metadata": {},
   "outputs": [],
   "source": [
    "fits_file = '/Users/dpallot/Projects/jacal/summit_demo/oskar/ingest/demo_f.all.fits'\n",
    "fits = await FITSImageCubeStream.open(fits_file)"
   ]
  },
  {
   "cell_type": "code",
   "execution_count": null,
   "metadata": {},
   "outputs": [],
   "source": [
    "channels = [await fits.get_channel_data(i) for i in range(1070, 1135)]\n",
    "cube = scipy.ndimage.gaussian_filter(np.dstack(channels), 2)"
   ]
  },
  {
   "cell_type": "code",
   "execution_count": null,
   "metadata": {
    "scrolled": false
   },
   "outputs": [],
   "source": [
    "ipv.quickvolshow(cube, lighting=True, level=[0.29, 0.3, 0.33], \n",
    "                 opacity=[0.2, 0.2, 0.2], level_width=0.05)"
   ]
  },
  {
   "cell_type": "markdown",
   "metadata": {},
   "source": [
    "### Source Detection"
   ]
  },
  {
   "cell_type": "code",
   "execution_count": null,
   "metadata": {},
   "outputs": [],
   "source": [
    "from astropy.stats import sigma_clipped_stats\n",
    "from photutils import datasets\n",
    "from photutils import DAOStarFinder\n",
    "from astropy.visualization import SqrtStretch\n",
    "from astropy.visualization.mpl_normalize import ImageNormalize\n",
    "from photutils import CircularAperture\n",
    "\n",
    "data = await fits.get_channel_data(1111)\n",
    "data = ndimage.gaussian_filter(data, 10)\n",
    "mean, median, std = sigma_clipped_stats(data, sigma=1.0)\n",
    "daofind = DAOStarFinder(fwhm=3.0, threshold=1.2*std)    \n",
    "sources = daofind(data - median)  \n",
    "positions = (sources['xcentroid'], sources['ycentroid'])\n",
    "apertures = CircularAperture(positions, r=100.)\n",
    "\n",
    "fig, ax = plt.subplots(1, 2, figsize=(15,15))\n",
    "ax[0].imshow(data, origin='lower')\n",
    "ax[1].imshow(data, cmap='Greys', origin='lower')\n",
    "apertures.plot(color='blue', lw=1.5, alpha=0.5)\n",
    "plt.show()"
   ]
  },
  {
   "cell_type": "code",
   "execution_count": null,
   "metadata": {},
   "outputs": [],
   "source": []
  }
 ],
 "metadata": {
  "kernelspec": {
   "display_name": "Python 3",
   "language": "python",
   "name": "python3"
  },
  "language_info": {
   "codemirror_mode": {
    "name": "ipython",
    "version": 3
   },
   "file_extension": ".py",
   "mimetype": "text/x-python",
   "name": "python",
   "nbconvert_exporter": "python",
   "pygments_lexer": "ipython3",
   "version": "3.7.3"
  }
 },
 "nbformat": 4,
 "nbformat_minor": 1
}
